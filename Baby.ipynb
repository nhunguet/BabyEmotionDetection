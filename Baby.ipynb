{
  "nbformat": 4,
  "nbformat_minor": 0,
  "metadata": {
    "colab": {
      "name": "Baby.ipynb",
      "provenance": []
    },
    "kernelspec": {
      "name": "python3",
      "display_name": "Python 3"
    },
    "language_info": {
      "name": "python"
    }
  },
  "cells": [
    {
      "cell_type": "code",
      "execution_count": 1,
      "metadata": {
        "colab": {
          "base_uri": "https://localhost:8080/"
        },
        "id": "aklGtwAGOSHF",
        "outputId": "3f8255e5-c56c-48d3-b033-602926f76845"
      },
      "outputs": [
        {
          "output_type": "stream",
          "name": "stdout",
          "text": [
            "Mounted at /content/drive\n"
          ]
        }
      ],
      "source": [
        "#Mount to google drive \n",
        "from google.colab import drive\n",
        "drive.mount('/content/drive')"
      ]
    },
    {
      "cell_type": "code",
      "source": [
        "# Link to folder\n",
        "import os\n",
        "os.chdir(\"/content/drive/My Drive/datafolder\")"
      ],
      "metadata": {
        "id": "MG8vC9yNOT24"
      },
      "execution_count": 3,
      "outputs": []
    },
    {
      "cell_type": "code",
      "source": [
        "import tensorflow\n",
        "print(tensorflow.__version__)"
      ],
      "metadata": {
        "colab": {
          "base_uri": "https://localhost:8080/"
        },
        "id": "zRMq3iexOUhv",
        "outputId": "8487a445-ff7a-4230-ed77-cee42c500bd3"
      },
      "execution_count": 4,
      "outputs": [
        {
          "output_type": "stream",
          "name": "stdout",
          "text": [
            "2.8.2\n"
          ]
        }
      ]
    },
    {
      "cell_type": "code",
      "source": [
        "import cv2,os\n",
        "data_path='/content/drive/MyDrive/datafolder/BabyDataSet/'\n",
        "categories=os.listdir(data_path)\n",
        "labels=[i for i in range(len(categories))]\n",
        "\n",
        "label_dict=dict(zip(categories,labels)) #empty dictionary\n",
        "print(label_dict)\n",
        "print(categories)\n",
        "print(labels)"
      ],
      "metadata": {
        "colab": {
          "base_uri": "https://localhost:8080/"
        },
        "id": "peay2SErOpjl",
        "outputId": "ce8c32dd-1767-49f2-c17d-fb292b368819"
      },
      "execution_count": 5,
      "outputs": [
        {
          "output_type": "stream",
          "name": "stdout",
          "text": [
            "{'happy': 0, 'angry': 1, 'sad': 2}\n",
            "['happy', 'angry', 'sad']\n",
            "[0, 1, 2]\n"
          ]
        }
      ]
    },
    {
      "cell_type": "code",
      "source": [
        "img_size=100\n",
        "data=[]\n",
        "target=[]\n",
        "\n",
        "for category in categories:\n",
        "    folder_path=os.path.join(data_path,category)\n",
        "    img_names=os.listdir(folder_path)\n",
        "        \n",
        "    for img_name in img_names:\n",
        "        img_path=os.path.join(folder_path,img_name)\n",
        "        img=cv2.imread(img_path)\n",
        "\n",
        "        try:  \n",
        "            resized=cv2.resize(img,(img_size,img_size))\n",
        "            #resizing the image  into 100x100, since we need a fixed common size for all the images in the dataset\n",
        "            data.append(resized)\n",
        "            target.append(label_dict[category])\n",
        "            #appending the image and the label(categorized) into the list (dataset)\n",
        "        except Exception as e:\n",
        "            print('Exception:',e)\n",
        "            #if any exception rasied, the exception will be printed here. And pass to the next image"
      ],
      "metadata": {
        "colab": {
          "base_uri": "https://localhost:8080/"
        },
        "id": "DvmlnEHbOwld",
        "outputId": "733e274a-3230-4b7a-b3a0-f241d60517a9"
      },
      "execution_count": 6,
      "outputs": [
        {
          "output_type": "stream",
          "name": "stdout",
          "text": [
            "Exception: OpenCV(4.6.0) /io/opencv/modules/imgproc/src/resize.cpp:4052: error: (-215:Assertion failed) !ssize.empty() in function 'resize'\n",
            "\n",
            "Exception: OpenCV(4.6.0) /io/opencv/modules/imgproc/src/resize.cpp:4052: error: (-215:Assertion failed) !ssize.empty() in function 'resize'\n",
            "\n",
            "Exception: OpenCV(4.6.0) /io/opencv/modules/imgproc/src/resize.cpp:4052: error: (-215:Assertion failed) !ssize.empty() in function 'resize'\n",
            "\n",
            "Exception: OpenCV(4.6.0) /io/opencv/modules/imgproc/src/resize.cpp:4052: error: (-215:Assertion failed) !ssize.empty() in function 'resize'\n",
            "\n",
            "Exception: OpenCV(4.6.0) /io/opencv/modules/imgproc/src/resize.cpp:4052: error: (-215:Assertion failed) !ssize.empty() in function 'resize'\n",
            "\n",
            "Exception: OpenCV(4.6.0) /io/opencv/modules/imgproc/src/resize.cpp:4052: error: (-215:Assertion failed) !ssize.empty() in function 'resize'\n",
            "\n",
            "Exception: OpenCV(4.6.0) /io/opencv/modules/imgproc/src/resize.cpp:4052: error: (-215:Assertion failed) !ssize.empty() in function 'resize'\n",
            "\n",
            "Exception: OpenCV(4.6.0) /io/opencv/modules/imgproc/src/resize.cpp:4052: error: (-215:Assertion failed) !ssize.empty() in function 'resize'\n",
            "\n",
            "Exception: OpenCV(4.6.0) /io/opencv/modules/imgproc/src/resize.cpp:4052: error: (-215:Assertion failed) !ssize.empty() in function 'resize'\n",
            "\n",
            "Exception: OpenCV(4.6.0) /io/opencv/modules/imgproc/src/resize.cpp:4052: error: (-215:Assertion failed) !ssize.empty() in function 'resize'\n",
            "\n",
            "Exception: OpenCV(4.6.0) /io/opencv/modules/imgproc/src/resize.cpp:4052: error: (-215:Assertion failed) !ssize.empty() in function 'resize'\n",
            "\n",
            "Exception: OpenCV(4.6.0) /io/opencv/modules/imgproc/src/resize.cpp:4052: error: (-215:Assertion failed) !ssize.empty() in function 'resize'\n",
            "\n",
            "Exception: OpenCV(4.6.0) /io/opencv/modules/imgproc/src/resize.cpp:4052: error: (-215:Assertion failed) !ssize.empty() in function 'resize'\n",
            "\n",
            "Exception: OpenCV(4.6.0) /io/opencv/modules/imgproc/src/resize.cpp:4052: error: (-215:Assertion failed) !ssize.empty() in function 'resize'\n",
            "\n",
            "Exception: OpenCV(4.6.0) /io/opencv/modules/imgproc/src/resize.cpp:4052: error: (-215:Assertion failed) !ssize.empty() in function 'resize'\n",
            "\n",
            "Exception: OpenCV(4.6.0) /io/opencv/modules/imgproc/src/resize.cpp:4052: error: (-215:Assertion failed) !ssize.empty() in function 'resize'\n",
            "\n",
            "Exception: OpenCV(4.6.0) /io/opencv/modules/imgproc/src/resize.cpp:4052: error: (-215:Assertion failed) !ssize.empty() in function 'resize'\n",
            "\n",
            "Exception: OpenCV(4.6.0) /io/opencv/modules/imgproc/src/resize.cpp:4052: error: (-215:Assertion failed) !ssize.empty() in function 'resize'\n",
            "\n",
            "Exception: OpenCV(4.6.0) /io/opencv/modules/imgproc/src/resize.cpp:4052: error: (-215:Assertion failed) !ssize.empty() in function 'resize'\n",
            "\n"
          ]
        }
      ]
    },
    {
      "cell_type": "code",
      "source": [
        "import numpy as np\n",
        "data=np.array(data)/255.0\n",
        "data=np.reshape(data,(data.shape[0],img_size,img_size,3))\n",
        "target=np.array(target)\n",
        "from keras.utils import np_utils\n",
        "new_target=np_utils.to_categorical(target)"
      ],
      "metadata": {
        "id": "nzYUvk7EO0rt"
      },
      "execution_count": 7,
      "outputs": []
    },
    {
      "cell_type": "code",
      "source": [
        "new_target.shape"
      ],
      "metadata": {
        "colab": {
          "base_uri": "https://localhost:8080/"
        },
        "id": "9xxAhhZ5PnNS",
        "outputId": "7ce7e57a-cbb7-40cc-b2f5-5c13098038db"
      },
      "execution_count": 8,
      "outputs": [
        {
          "output_type": "execute_result",
          "data": {
            "text/plain": [
              "(271, 3)"
            ]
          },
          "metadata": {},
          "execution_count": 8
        }
      ]
    },
    {
      "cell_type": "code",
      "source": [
        "data.shape[1:]\n"
      ],
      "metadata": {
        "colab": {
          "base_uri": "https://localhost:8080/"
        },
        "id": "6nvLcZ3SPoly",
        "outputId": "9b2801fe-8280-47fe-d878-3a03c4a1cf66"
      },
      "execution_count": 9,
      "outputs": [
        {
          "output_type": "execute_result",
          "data": {
            "text/plain": [
              "(100, 100, 3)"
            ]
          },
          "metadata": {},
          "execution_count": 9
        }
      ]
    },
    {
      "cell_type": "code",
      "source": [
        "from keras.models import Sequential\n",
        "from keras.layers import Dense,Activation,Flatten,Dropout\n",
        "from keras.layers import Conv2D,MaxPooling2D\n",
        "from keras.callbacks import ModelCheckpoint\n",
        "\n",
        "model=Sequential()\n",
        "\n",
        "model.add(Conv2D(200,(3,3),input_shape=data.shape[1:]))\n",
        "model.add(Activation('relu'))\n",
        "model.add(MaxPooling2D(pool_size=(2,2)))\n",
        "#The first CNN layer followed by Relu and MaxPooling layers\n",
        "\n",
        "model.add(Conv2D(100,(3,3)))\n",
        "model.add(Activation('relu'))\n",
        "model.add(MaxPooling2D(pool_size=(2,2)))\n",
        "#The second convolution layer followed by Relu and MaxPooling layers\n",
        "\n",
        "model.add(Flatten())\n",
        "model.add(Dropout(0.5))\n",
        "#Flatten layer to stack the output convolutions from second convolution layer\n",
        "model.add(Dense(50,activation='relu'))\n",
        "#Dense layer of 64 neurons\n",
        "model.add(Dense(3,activation='softmax'))\n",
        "#The Final layer with two outputs for two categories\n",
        "\n",
        "model.compile(loss='categorical_crossentropy',optimizer='adam',metrics=['accuracy'])"
      ],
      "metadata": {
        "id": "lCc153xGPqtT"
      },
      "execution_count": 16,
      "outputs": []
    },
    {
      "cell_type": "code",
      "source": [
        "model.summary()"
      ],
      "metadata": {
        "colab": {
          "base_uri": "https://localhost:8080/"
        },
        "id": "3U_0l40CPtGi",
        "outputId": "f39f059d-8c5c-4f2e-ca00-ac4742a4aaab"
      },
      "execution_count": 17,
      "outputs": [
        {
          "output_type": "stream",
          "name": "stdout",
          "text": [
            "Model: \"sequential_1\"\n",
            "_________________________________________________________________\n",
            " Layer (type)                Output Shape              Param #   \n",
            "=================================================================\n",
            " conv2d_2 (Conv2D)           (None, 98, 98, 200)       5600      \n",
            "                                                                 \n",
            " activation_2 (Activation)   (None, 98, 98, 200)       0         \n",
            "                                                                 \n",
            " max_pooling2d_2 (MaxPooling  (None, 49, 49, 200)      0         \n",
            " 2D)                                                             \n",
            "                                                                 \n",
            " conv2d_3 (Conv2D)           (None, 47, 47, 100)       180100    \n",
            "                                                                 \n",
            " activation_3 (Activation)   (None, 47, 47, 100)       0         \n",
            "                                                                 \n",
            " max_pooling2d_3 (MaxPooling  (None, 23, 23, 100)      0         \n",
            " 2D)                                                             \n",
            "                                                                 \n",
            " flatten_1 (Flatten)         (None, 52900)             0         \n",
            "                                                                 \n",
            " dropout_1 (Dropout)         (None, 52900)             0         \n",
            "                                                                 \n",
            " dense_2 (Dense)             (None, 50)                2645050   \n",
            "                                                                 \n",
            " dense_3 (Dense)             (None, 3)                 153       \n",
            "                                                                 \n",
            "=================================================================\n",
            "Total params: 2,830,903\n",
            "Trainable params: 2,830,903\n",
            "Non-trainable params: 0\n",
            "_________________________________________________________________\n"
          ]
        }
      ]
    },
    {
      "cell_type": "code",
      "source": [
        "from sklearn.model_selection import train_test_split\n",
        "train_data,test_data,train_target,test_target=train_test_split(data,new_target,test_size=0.1)"
      ],
      "metadata": {
        "id": "G9Th2GAAPuqq"
      },
      "execution_count": 18,
      "outputs": []
    },
    {
      "cell_type": "code",
      "source": [
        "#checkpoint = ModelCheckpoint('model-{epoch:03d}.model',monitor='val_loss',verbose=0,save_best_only=True,mode='auto')\n",
        "history=model.fit(train_data,train_target,epochs=30,validation_split=0.2)"
      ],
      "metadata": {
        "colab": {
          "base_uri": "https://localhost:8080/"
        },
        "id": "Rp8KDM0UPwjK",
        "outputId": "ad8b7e04-97db-4cfa-9d35-596ace8ff16e"
      },
      "execution_count": 19,
      "outputs": [
        {
          "output_type": "stream",
          "name": "stdout",
          "text": [
            "Epoch 1/30\n",
            "7/7 [==============================] - 12s 2s/step - loss: 1.3289 - accuracy: 0.3196 - val_loss: 1.1011 - val_accuracy: 0.2857\n",
            "Epoch 2/30\n",
            "7/7 [==============================] - 11s 2s/step - loss: 1.1170 - accuracy: 0.2938 - val_loss: 1.1080 - val_accuracy: 0.3878\n",
            "Epoch 3/30\n",
            "7/7 [==============================] - 11s 2s/step - loss: 1.1285 - accuracy: 0.3041 - val_loss: 1.0754 - val_accuracy: 0.3878\n",
            "Epoch 4/30\n",
            "7/7 [==============================] - 11s 2s/step - loss: 1.0688 - accuracy: 0.3299 - val_loss: 1.0437 - val_accuracy: 0.4082\n",
            "Epoch 5/30\n",
            "7/7 [==============================] - 12s 2s/step - loss: 1.0348 - accuracy: 0.4794 - val_loss: 1.0617 - val_accuracy: 0.3265\n",
            "Epoch 6/30\n",
            "7/7 [==============================] - 11s 2s/step - loss: 1.0267 - accuracy: 0.4897 - val_loss: 1.0289 - val_accuracy: 0.4694\n",
            "Epoch 7/30\n",
            "7/7 [==============================] - 11s 2s/step - loss: 0.9498 - accuracy: 0.5722 - val_loss: 1.2218 - val_accuracy: 0.3469\n",
            "Epoch 8/30\n",
            "7/7 [==============================] - 11s 2s/step - loss: 0.9187 - accuracy: 0.5619 - val_loss: 1.0658 - val_accuracy: 0.4694\n",
            "Epoch 9/30\n",
            "7/7 [==============================] - 11s 2s/step - loss: 0.8883 - accuracy: 0.5206 - val_loss: 1.0251 - val_accuracy: 0.4082\n",
            "Epoch 10/30\n",
            "7/7 [==============================] - 11s 2s/step - loss: 0.7787 - accuracy: 0.6907 - val_loss: 1.7474 - val_accuracy: 0.4286\n",
            "Epoch 11/30\n",
            "7/7 [==============================] - 11s 2s/step - loss: 0.9036 - accuracy: 0.6237 - val_loss: 1.0662 - val_accuracy: 0.4082\n",
            "Epoch 12/30\n",
            "7/7 [==============================] - 11s 2s/step - loss: 0.8404 - accuracy: 0.5309 - val_loss: 1.2051 - val_accuracy: 0.4694\n",
            "Epoch 13/30\n",
            "7/7 [==============================] - 11s 2s/step - loss: 0.7025 - accuracy: 0.7010 - val_loss: 1.4440 - val_accuracy: 0.3878\n",
            "Epoch 14/30\n",
            "7/7 [==============================] - 11s 2s/step - loss: 0.5608 - accuracy: 0.7526 - val_loss: 1.7007 - val_accuracy: 0.4490\n",
            "Epoch 15/30\n",
            "7/7 [==============================] - 13s 2s/step - loss: 0.4639 - accuracy: 0.8196 - val_loss: 2.7013 - val_accuracy: 0.4082\n",
            "Epoch 16/30\n",
            "7/7 [==============================] - 11s 2s/step - loss: 0.4256 - accuracy: 0.8711 - val_loss: 1.6137 - val_accuracy: 0.4898\n",
            "Epoch 17/30\n",
            "7/7 [==============================] - 11s 2s/step - loss: 0.3663 - accuracy: 0.8711 - val_loss: 2.5520 - val_accuracy: 0.3673\n",
            "Epoch 18/30\n",
            "7/7 [==============================] - 11s 2s/step - loss: 0.2854 - accuracy: 0.8814 - val_loss: 2.5434 - val_accuracy: 0.3878\n",
            "Epoch 19/30\n",
            "7/7 [==============================] - 11s 2s/step - loss: 0.2883 - accuracy: 0.9175 - val_loss: 2.0877 - val_accuracy: 0.4082\n",
            "Epoch 20/30\n",
            "7/7 [==============================] - 11s 2s/step - loss: 0.2801 - accuracy: 0.9227 - val_loss: 1.9368 - val_accuracy: 0.4286\n",
            "Epoch 21/30\n",
            "7/7 [==============================] - 11s 2s/step - loss: 0.2298 - accuracy: 0.9330 - val_loss: 2.3797 - val_accuracy: 0.4286\n",
            "Epoch 22/30\n",
            "7/7 [==============================] - 11s 2s/step - loss: 0.1920 - accuracy: 0.9485 - val_loss: 2.5988 - val_accuracy: 0.4082\n",
            "Epoch 23/30\n",
            "7/7 [==============================] - 11s 2s/step - loss: 0.1541 - accuracy: 0.9588 - val_loss: 3.0332 - val_accuracy: 0.3878\n",
            "Epoch 24/30\n",
            "7/7 [==============================] - 13s 2s/step - loss: 0.1103 - accuracy: 0.9794 - val_loss: 3.7459 - val_accuracy: 0.3878\n",
            "Epoch 25/30\n",
            "7/7 [==============================] - 11s 2s/step - loss: 0.1078 - accuracy: 0.9588 - val_loss: 2.4707 - val_accuracy: 0.4898\n",
            "Epoch 26/30\n",
            "7/7 [==============================] - 11s 2s/step - loss: 0.0855 - accuracy: 0.9897 - val_loss: 4.5118 - val_accuracy: 0.4490\n",
            "Epoch 27/30\n",
            "7/7 [==============================] - 11s 2s/step - loss: 0.1562 - accuracy: 0.9691 - val_loss: 2.8376 - val_accuracy: 0.4694\n",
            "Epoch 28/30\n",
            "7/7 [==============================] - 11s 2s/step - loss: 0.1594 - accuracy: 0.9536 - val_loss: 2.7439 - val_accuracy: 0.4490\n",
            "Epoch 29/30\n",
            "7/7 [==============================] - 11s 2s/step - loss: 0.0926 - accuracy: 0.9742 - val_loss: 3.6733 - val_accuracy: 0.3878\n",
            "Epoch 30/30\n",
            "7/7 [==============================] - 11s 2s/step - loss: 0.0958 - accuracy: 0.9845 - val_loss: 3.8671 - val_accuracy: 0.4490\n"
          ]
        }
      ]
    },
    {
      "cell_type": "code",
      "source": [
        "\n",
        "model.save('modelbaby.h5')"
      ],
      "metadata": {
        "id": "O0faaET1Pxnq"
      },
      "execution_count": 20,
      "outputs": []
    },
    {
      "cell_type": "code",
      "source": [
        "from matplotlib import pyplot as plt\n",
        "# plot the training loss and accuracy\n",
        "N = 30\n",
        "plt.style.use(\"ggplot\")\n",
        "plt.figure()\n",
        "#plt.plot(np.arange(0, N), history.history[\"loss\"], label=\"train_loss\")\n",
        "#plt.plot(np.arange(0, N), history.history[\"val_loss\"], label=\"val_loss\")\n",
        "plt.plot(np.arange(0, N), history.history[\"accuracy\"], label=\"train_acc\")\n",
        "plt.plot(np.arange(0, N), history.history[\"val_accuracy\"], label=\"val_acc\")\n",
        "plt.title(\"Training Accuracy\")\n",
        "plt.xlabel(\"Epoch\")\n",
        "plt.ylabel(\"Loss/Accuracy\")\n",
        "plt.legend(loc=\"center right\")\n",
        "plt.savefig(\"CNN_Model\")\n",
        "\n"
      ],
      "metadata": {
        "colab": {
          "base_uri": "https://localhost:8080/",
          "height": 299
        },
        "id": "zbhNAtHVRvHz",
        "outputId": "7e3e3b9e-20fe-4ade-fdb2-5a043b3361ed"
      },
      "execution_count": 21,
      "outputs": [
        {
          "output_type": "display_data",
          "data": {
            "text/plain": [
              "<Figure size 432x288 with 1 Axes>"
            ],
            "image/png": "[encoded data removed]"
          },
          "metadata": {}
        }
      ]
    },
    {
      "cell_type": "code",
      "source": [
        ""
      ],
      "metadata": {
        "id": "r_JzkDC-RxFD"
      },
      "execution_count": null,
      "outputs": []
    }
  ]
}